{
 "cells": [
  {
   "cell_type": "code",
   "execution_count": 5,
   "metadata": {
    "collapsed": false
   },
   "outputs": [
    {
     "name": "stdout",
     "output_type": "stream",
     "text": [
      "[[1 0]\n",
      " [3 4]]\n"
     ]
    }
   ],
   "source": [
    "import numpy as np\n",
    "a = np.array([[1,-2],[3,4]])\n",
    "print a*(a>0)"
   ]
  },
  {
   "cell_type": "code",
   "execution_count": 14,
   "metadata": {
    "collapsed": false
   },
   "outputs": [
    {
     "name": "stdout",
     "output_type": "stream",
     "text": [
      "[[4 2 0 1 0 4 3 0 2 0 3 2 1 4 2 4 0 4 0 2 0 0 2 3]\n",
      " [1 4 2 2 2 2 0 3 0 3 1 1 3 1 2 2 3 0 4 2 3 2 1 1]\n",
      " [1 4 3 0 2 4 0 3 0 4 4 4 4 2 3 4 0 4 0 4 4 0 3 2]\n",
      " [4 2 2 2 3 4 0 3 1 0 4 1 3 3 4 3 1 3 0 4 0 0 0 4]\n",
      " [2 1 3 3 4 3 4 0 1 1 4 4 4 0 4 2 3 3 2 4 3 2 4 0]\n",
      " [1 1 2 0 0 2 0 4 1 0 2 1 4 0 2 2 4 4 2 1 0 0 4 0]\n",
      " [1 0 4 2 4 2 3 3 0 2 0 0 1 4 2 0 4 4 2 0 0 1 4 1]\n",
      " [4 4 2 1 1 4 4 4 2 2 1 0 2 3 4 4 4 4 3 4 4 1 1 3]\n",
      " [0 4 1 4 2 0 3 4 2 4 3 2 3 3 4 0 3 2 1 2 2 4 1 1]\n",
      " [1 3 3 4 1 3 2 2 0 1 0 1 2 4 4 0 1 0 3 4 0 1 0 0]\n",
      " [1 2 2 3 1 1 3 4 4 2 4 1 4 2 3 2 2 3 1 0 1 2 4 4]\n",
      " [4 1 3 1 3 3 0 1 4 0 1 1 3 2 2 0 3 3 1 2 2 3 3 2]\n",
      " [1 0 1 3 4 0 0 0 4 1 1 1 3 4 2 4 2 2 1 3 2 4 1 1]\n",
      " [4 2 4 1 3 4 2 0 2 4 0 4 0 0 3 4 0 2 1 1 0 2 4 2]\n",
      " [2 2 2 3 2 0 2 1 1 3 0 0 1 2 1 1 4 3 2 3 2 1 1 4]\n",
      " [1 4 3 1 3 4 3 2 3 3 1 1 2 1 4 0 0 4 0 3 0 3 0 4]\n",
      " [4 1 1 3 0 0 4 3 1 3 2 0 4 3 3 1 0 0 0 2 4 2 3 4]\n",
      " [3 1 0 4 2 1 4 2 0 4 3 1 2 1 3 4 4 0 4 0 3 2 4 4]\n",
      " [1 0 2 4 1 1 2 2 1 1 1 1 1 4 4 0 3 4 1 0 2 4 1 2]\n",
      " [4 0 2 1 0 1 4 1 3 3 2 3 4 1 1 1 2 0 3 3 3 2 4 0]\n",
      " [2 3 2 4 2 2 2 4 1 0 1 2 4 4 3 4 1 4 2 0 4 4 1 4]\n",
      " [2 0 1 0 2 4 2 3 1 1 0 1 3 4 1 4 4 1 4 1 3 1 4 3]\n",
      " [2 2 0 3 1 0 0 4 2 1 3 0 0 3 2 0 3 0 4 2 4 2 0 3]\n",
      " [2 1 0 3 2 2 4 0 4 0 1 0 0 4 2 0 3 3 2 2 3 0 4 0]]\n",
      "[4, 2, 1, 4] 4\n",
      "[2, 0, 4, 2] 4\n",
      "[0, 1, 2, 2] 2\n",
      "[1, 0, 2, 2] 2\n",
      "[0, 4, 2, 2] 4\n",
      "[4, 3, 2, 0] 4\n",
      "[3, 0, 0, 3] 3\n",
      "[0, 2, 3, 0] 3\n",
      "[2, 0, 0, 3] 3\n",
      "[0, 3, 3, 1] 3\n",
      "[3, 2, 1, 1] 3\n",
      "[2, 1, 1, 3] 3\n",
      "[1, 4, 1, 4] 4\n",
      "[4, 2, 4, 3] 4\n",
      "[2, 2, 3, 0] 3\n",
      "[2, 2, 0, 2] 2\n",
      "[2, 2, 2, 4] 4\n",
      "[2, 0, 4, 0] 4\n",
      "[0, 3, 0, 3] 3\n",
      "[3, 0, 3, 0] 3\n",
      "[0, 3, 0, 4] 4\n",
      "[3, 1, 4, 4] 4\n",
      "[1, 1, 4, 4] 4\n",
      "[1, 3, 4, 4] 4\n",
      "[1, 4, 4, 2] 4\n",
      "[4, 3, 2, 2] 4\n",
      "[3, 0, 2, 2] 3\n",
      "[0, 2, 2, 3] 3\n",
      "[2, 4, 3, 4] 4\n",
      "[4, 0, 4, 0] 4\n",
      "[0, 3, 0, 3] 3\n",
      "[3, 0, 3, 1] 3\n",
      "[0, 4, 1, 0] 4\n",
      "[4, 4, 0, 4] 4\n",
      "[4, 4, 4, 1] 4\n",
      "[4, 4, 1, 3] 4\n",
      "[4, 2, 2, 1] 4\n",
      "[2, 2, 1, 3] 3\n",
      "[2, 2, 3, 3] 3\n",
      "[2, 3, 3, 4] 4\n",
      "[3, 4, 4, 3] 4\n",
      "[4, 0, 3, 4] 4\n",
      "[0, 3, 4, 0] 4\n",
      "[3, 1, 0, 1] 3\n",
      "[1, 0, 1, 1] 1\n",
      "[0, 4, 1, 4] 4\n",
      "[4, 1, 4, 4] 4\n",
      "[1, 3, 4, 4] 4\n",
      "[2, 1, 1, 1] 2\n",
      "[1, 3, 1, 2] 3\n",
      "[3, 3, 2, 0] 3\n",
      "[3, 4, 0, 0] 4\n",
      "[4, 3, 0, 2] 4\n",
      "[3, 4, 2, 0] 4\n",
      "[4, 0, 0, 4] 4\n",
      "[0, 1, 4, 1] 4\n",
      "[1, 1, 1, 0] 1\n",
      "[1, 4, 0, 2] 4\n",
      "[4, 4, 2, 1] 4\n",
      "[4, 4, 1, 4] 4\n",
      "[1, 1, 1, 0] 1\n",
      "[1, 2, 0, 4] 4\n",
      "[2, 0, 4, 2] 4\n",
      "[0, 0, 2, 4] 4\n",
      "[0, 2, 4, 2] 4\n",
      "[2, 0, 2, 3] 3\n",
      "[0, 4, 3, 3] 4\n",
      "[4, 1, 3, 0] 4\n",
      "[1, 0, 0, 2] 2\n",
      "[0, 2, 2, 0] 2\n",
      "[2, 1, 0, 0] 2\n",
      "[1, 4, 0, 1] 4\n",
      "[1, 0, 4, 4] 4\n",
      "[0, 4, 4, 2] 4\n",
      "[4, 2, 2, 1] 4\n",
      "[2, 4, 1, 1] 4\n",
      "[4, 2, 1, 4] 4\n",
      "[2, 3, 4, 4] 4\n",
      "[3, 3, 4, 4] 4\n",
      "[3, 0, 4, 2] 4\n",
      "[0, 2, 2, 2] 2\n",
      "[2, 0, 2, 1] 2\n",
      "[0, 0, 1, 0] 1\n",
      "[0, 1, 0, 2] 2\n",
      "[4, 4, 0, 4] 4\n",
      "[4, 2, 4, 1] 4\n",
      "[2, 1, 1, 4] 4\n",
      "[1, 1, 4, 2] 4\n",
      "[1, 4, 2, 0] 4\n",
      "[4, 4, 0, 3] 4\n",
      "[4, 4, 3, 4] 4\n",
      "[4, 2, 4, 2] 4\n",
      "[2, 2, 2, 4] 4\n",
      "[2, 1, 4, 3] 4\n",
      "[1, 0, 3, 2] 3\n",
      "[0, 2, 2, 3] 3\n",
      "[0, 4, 1, 3] 4\n",
      "[4, 1, 3, 3] 4\n",
      "[1, 4, 3, 4] 4\n",
      "[4, 2, 4, 1] 4\n",
      "[2, 0, 1, 3] 3\n",
      "[0, 3, 3, 2] 3\n",
      "[3, 4, 2, 2] 4\n",
      "[4, 2, 2, 0] 4\n",
      "[2, 4, 0, 1] 4\n",
      "[4, 3, 1, 0] 4\n",
      "[3, 2, 0, 1] 3\n",
      "[2, 3, 1, 2] 3\n",
      "[1, 3, 1, 2] 3\n",
      "[3, 3, 2, 2] 3\n",
      "[3, 4, 2, 3] 4\n",
      "[4, 1, 3, 1] 4\n",
      "[1, 3, 1, 1] 3\n",
      "[3, 2, 1, 3] 3\n",
      "[2, 2, 3, 4] 4\n",
      "[2, 0, 4, 4] 4\n",
      "[0, 1, 4, 2] 4\n",
      "[1, 0, 2, 4] 4\n",
      "[0, 1, 4, 1] 4\n",
      "[1, 2, 1, 4] 4\n",
      "[1, 2, 4, 1] 4\n",
      "[2, 2, 1, 3] 3\n",
      "[2, 3, 3, 1] 3\n",
      "[3, 1, 1, 3] 3\n",
      "[1, 1, 3, 3] 3\n",
      "[1, 3, 3, 0] 3\n",
      "[3, 4, 0, 1] 4\n",
      "[4, 4, 1, 4] 4\n",
      "[4, 2, 4, 0] 4\n",
      "[2, 4, 0, 1] 4\n",
      "[4, 1, 1, 1] 4\n",
      "[1, 4, 1, 3] 4\n",
      "[4, 1, 1, 0] 4\n",
      "[1, 3, 0, 1] 3\n",
      "[3, 1, 1, 3] 3\n",
      "[1, 3, 3, 4] 4\n",
      "[3, 3, 4, 0] 4\n",
      "[3, 0, 0, 0] 3\n",
      "[0, 1, 0, 0] 1\n",
      "[1, 4, 0, 4] 4\n",
      "[4, 0, 4, 1] 4\n",
      "[0, 1, 1, 1] 1\n",
      "[1, 1, 1, 1] 1\n",
      "[1, 3, 1, 3] 3\n",
      "[[4 2 0 1 0 4 3 0 2 0 3 2 1 4 2 4 0 4 0 2 0 0 2 3]\n",
      " [1 4 2 2 2 2 0 3 0 3 1 1 3 1 2 2 3 0 4 2 3 2 1 1]\n",
      " [1 4 3 0 2 4 0 3 0 4 4 4 4 2 3 4 0 4 0 4 4 0 3 2]\n",
      " [4 2 2 2 3 4 0 3 1 0 4 1 3 3 4 3 1 3 0 4 0 0 0 4]\n",
      " [2 1 3 3 4 3 4 0 1 1 4 4 4 0 4 2 3 3 2 4 3 2 4 0]\n",
      " [1 1 2 0 0 2 0 4 1 0 2 1 4 0 2 2 4 4 2 1 0 0 4 0]\n",
      " [1 0 4 2 4 2 3 3 0 2 0 0 1 4 2 0 4 4 2 0 0 1 4 1]\n",
      " [4 4 2 1 1 4 4 4 2 2 1 0 2 3 4 4 4 4 3 4 4 1 1 3]\n",
      " [0 4 1 4 2 0 3 4 2 4 3 2 3 3 4 0 3 2 1 2 2 4 1 1]\n",
      " [1 3 3 4 1 3 2 2 0 1 0 1 2 4 4 0 1 0 3 4 0 1 0 0]\n",
      " [1 2 2 3 1 1 3 4 4 2 4 1 4 2 3 2 2 3 1 0 1 2 4 4]\n",
      " [4 1 3 1 3 3 0 1 4 0 1 1 3 2 2 0 3 3 1 2 2 3 3 2]\n",
      " [1 0 1 3 4 0 0 0 4 1 1 1 3 4 2 4 2 2 1 3 2 4 1 1]\n",
      " [4 2 4 1 3 4 2 0 2 4 0 4 0 0 3 4 0 2 1 1 0 2 4 2]\n",
      " [2 2 2 3 2 0 2 1 1 3 0 0 1 2 1 1 4 3 2 3 2 1 1 4]\n",
      " [1 4 3 1 3 4 3 2 3 3 1 1 2 1 4 0 0 4 0 3 0 3 0 4]\n",
      " [4 1 1 3 0 0 4 3 1 3 2 0 4 3 3 1 0 0 0 2 4 2 3 4]\n",
      " [3 1 0 4 2 1 4 2 0 4 3 1 2 1 3 4 4 0 4 0 3 2 4 4]\n",
      " [1 0 2 4 1 1 2 2 1 1 1 1 1 4 4 0 3 4 1 0 2 4 1 2]\n",
      " [4 0 2 1 0 1 4 1 3 3 2 3 4 1 1 1 2 0 3 3 3 2 4 0]\n",
      " [2 3 2 4 2 2 2 4 1 0 1 2 4 4 3 4 1 4 2 0 4 4 1 4]\n",
      " [2 0 1 0 2 4 2 3 1 1 0 1 3 4 1 4 4 1 4 1 3 1 4 3]\n",
      " [2 2 0 3 1 0 0 4 2 1 3 0 0 3 2 0 3 0 4 2 4 2 0 3]\n",
      " [2 1 0 3 2 2 4 0 4 0 1 0 0 4 2 0 3 3 2 2 3 0 4 0]]\n"
     ]
    }
   ],
   "source": [
    "import itertools\n",
    "def maxpool(inp):\n",
    "    '''\n",
    "    inp -> square matrix (24x24), assuming even numbered dimensions\n",
    "    Assuming 2x2 window for max pooling\n",
    "    return val -> square matrix after maxpooling (12x12)\n",
    "    '''\n",
    "    res = np.zeros((inp.shape[0]/2, inp.shape[1]/2))\n",
    "    for i in xrange(0,inp.shape[0]/2):\n",
    "        for j in xrange(0,inp.shape[0]/2):\n",
    "            l = inp[i:i+2,j:j+2].tolist()\n",
    "            l = list(itertools.chain.from_iterable(l))\n",
    "            res[i][j] = max(l)\n",
    "    return res\n",
    "            \n",
    "maxpool(np.random.randint(0,5,size=(24,24)))"
   ]
  },
  {
   "cell_type": "code",
   "execution_count": 15,
   "metadata": {
    "collapsed": false
   },
   "outputs": [
    {
     "name": "stdout",
     "output_type": "stream",
     "text": [
      "[5, 6, 10, 12]\n"
     ]
    }
   ],
   "source": [
    "a = [i*j for i in xrange(1,3) for j in xrange(5,7)]\n",
    "print a"
   ]
  },
  {
   "cell_type": "code",
   "execution_count": 19,
   "metadata": {
    "collapsed": false
   },
   "outputs": [
    {
     "data": {
      "text/plain": [
       "array([[151,  16, 123,  82,  17, 177, 161,  17, 229, 189, 239, 115, 126,\n",
       "        131, 233,  69, 159, 159,  60, 236],\n",
       "       [122, 136,  63,  64, 113, 140, 236, 218,  18,  81,  36, 232, 203,\n",
       "         64,  69, 159, 162, 206, 204,  43],\n",
       "       [ 27, 156, 241,  30, 160, 215, 165,  63,  80, 184, 165, 184, 217,\n",
       "        166, 114,  15, 181, 231, 147, 132],\n",
       "       [ 49, 140,  93,  24,  58, 208, 198, 236, 133, 151,  66,  63,  50,\n",
       "        242,  13, 231,  85, 136,  98,  52],\n",
       "       [103,  89, 250,  37,  51, 208, 102,  44, 183,  11, 126, 137, 213,\n",
       "        103,  45,  10, 217,  28, 160, 252],\n",
       "       [237, 244, 114, 132, 160,   2, 243,   3, 175,  56, 119, 113, 100,\n",
       "        237, 214,  93, 167,  94, 125, 153],\n",
       "       [237, 151,  61, 205, 189,  71, 153, 111, 244,  11,  65, 147, 226,\n",
       "        225, 242, 228,  94,  82,   2, 190],\n",
       "       [ 30,  33,  23,  68,   8, 254, 109, 204, 240, 248,  46, 101, 230,\n",
       "        200, 144, 132,  89,  77,  45, 219],\n",
       "       [234, 183,  38, 235, 173,  72, 150,  73,  78,  50, 114,  16,  46,\n",
       "        227,  94,   2, 146,  18,  86, 220],\n",
       "       [191, 111, 115, 161, 224,  40, 188, 161, 162, 156, 223,   1,   3,\n",
       "        236, 102,  92, 204, 207,  66, 214],\n",
       "       [183,  90, 243,  67, 248, 193, 202, 242,  68, 180,  58, 233, 137,\n",
       "         22, 130, 148,  41,  80, 160, 205],\n",
       "       [  1,  84, 203, 105,  58,   7, 246, 191, 168,  19, 238,  90, 205,\n",
       "         45,  42, 104,  68, 139, 231, 109],\n",
       "       [178,  38,  89, 190, 100, 201,  26, 219, 184,  41, 191,  67, 197,\n",
       "        129, 163,  73,  90,  90,  68,  89],\n",
       "       [218,   6,  27, 129,  10, 153, 177,  54, 246, 114, 142,  94,  19,\n",
       "        143,  96,  94,  86, 114, 155, 136],\n",
       "       [186, 196, 172, 248,  39,  61, 117, 105, 220, 236,  15, 218, 105,\n",
       "        154,  55, 254,   9,  93, 160, 169],\n",
       "       [ 34,  77, 163, 135,  88,  99, 211,  86,  65,  59, 180,  90, 141,\n",
       "         81, 240, 137,   8, 130,  98,  62],\n",
       "       [157, 248,  99, 121,  74, 177,  78,  52, 226,   3,  46,  54,  66,\n",
       "        151, 252, 253, 160,  85, 154,  66],\n",
       "       [206, 143, 228,  29,  26, 147, 109, 233,  73,  79, 130,  39,  12,\n",
       "        210, 227, 171, 212,  59,  16, 254],\n",
       "       [230,  62,  35,  54, 146,  20,   5, 183, 145, 186, 154,  47, 208,\n",
       "         37, 174, 100,  69, 152, 231,  99],\n",
       "       [163,   0,  19, 155,   9,  62,  82, 153, 141, 252, 143, 122, 134,\n",
       "        226, 207, 169,  99, 102, 245, 229]])"
      ]
     },
     "execution_count": 19,
     "metadata": {},
     "output_type": "execute_result"
    }
   ],
   "source": [
    "np.random.randn(0,256,size=(20,20))"
   ]
  },
  {
   "cell_type": "code",
   "execution_count": 21,
   "metadata": {
    "collapsed": false
   },
   "outputs": [
    {
     "name": "stdout",
     "output_type": "stream",
     "text": [
      "2147483647\n"
     ]
    }
   ],
   "source": [
    "print 2**31-1"
   ]
  },
  {
   "cell_type": "code",
   "execution_count": 23,
   "metadata": {
    "collapsed": false
   },
   "outputs": [
    {
     "name": "stdout",
     "output_type": "stream",
     "text": [
      "[[array([[  22676588, 1906824331,  574322579,  850186254,  855367960],\n",
      "       [ 481262533,  106454787,  115201431, 1768716121,  691243805],\n",
      "       [1895412344, 1220021606, 1112484191,  776996313, 1654700454],\n",
      "       [1425821695,  378582706, 1715066716,  816995811, 1626570410],\n",
      "       [ 671973118, 1029513226, 2093295654,  385724122,   80815842]]), array([[1080043357, 1600398080,  372498213, 1721173298, 1938529784],\n",
      "       [1535377348, 1659372901, 1263848490, 1837805753, 1121664896],\n",
      "       [ 190357322, 1733663136, 1662988401, 1188524175,  363319936],\n",
      "       [ 576432040, 1376859133, 1401546774, 1272818881,  704606276],\n",
      "       [2069185452,  642906517, 1399729363, 1976939997, 1222771768]]), array([[1593175204,  449537013, 1823832466,  977248817, 1315215242],\n",
      "       [2132187006,  815079721, 1319906546,   62697362, 1184799077],\n",
      "       [ 440371491,  311907557, 1849445988, 2031277627, 2010547930],\n",
      "       [1733699503,  405277246,   12900441,  967702788, 2068429794],\n",
      "       [ 888397712,  402932118, 1822141140, 2130013165, 1113571845]]), array([[1922462647, 1413949653,  932976994, 1522137940, 1492186513],\n",
      "       [1343545283,  272319512,  321739257, 1459325117, 1080545750],\n",
      "       [ 932397447,  262650708, 1419924943, 2005969098, 2131151561],\n",
      "       [1542839865, 1127181728, 1649335315,  688947642, 1520605499],\n",
      "       [2108904035,  427182844, 2021844515,  137104116,  550426030]]), array([[1931589287,  416513620,  282070476,  644301197,  101478981],\n",
      "       [2126503996,  254795479, 1344430527,  241064266,  150142130],\n",
      "       [1929443295, 1874633457,  944017821,   56401066, 1247493165],\n",
      "       [ 672872181, 1121454588,  426068237,  908331195,  330229331],\n",
      "       [ 286370178,  253522145, 1462414256, 1753510798, 1249215822]]), array([[ 344784903, 1143852936, 1292594846,  346666170,  781818202],\n",
      "       [ 946565076,   69391653,  949203544,  132592598,  715115939],\n",
      "       [1258592210,  925174201, 1919253011,  666952870, 1892824253],\n",
      "       [ 529738653,  117238385, 2146035243, 1228790975, 1042744728],\n",
      "       [ 973924673,  719074604, 1236008482, 2089689015, 1459763227]])], [array([[ 200009427,  894187260, 2071738760,  672550212,  964090245],\n",
      "       [ 707740712,  935847955, 1366454668, 1044840621, 2069649537],\n",
      "       [ 700366083, 1858762739, 1516335592,   84975643,  683694215],\n",
      "       [ 277003095, 1200440183, 1141710917, 1749581628, 1878256515],\n",
      "       [ 804446861, 2146532346, 1578509517, 1777038443,  853559048]]), array([[1871889242, 1691207193, 2018543331,  934747226,  420817197],\n",
      "       [ 270464109,  856767099,  254664571, 1742676684,  893971197],\n",
      "       [1612362630, 1086547304,  769062290,  765598582, 2098376892],\n",
      "       [1723737750, 1708181282, 1179182221, 1443705621,  466799747],\n",
      "       [ 724061500, 1610521049, 1551776644, 1140339323, 1189478490]]), array([[1214666119, 2011083388, 1158515251,   58192083,  933534025],\n",
      "       [ 556961745, 1538232198, 2127561306,  805110301,  597132429],\n",
      "       [ 605267765,  328470467,  198063831, 1788346341, 1520667754],\n",
      "       [1102367567,  613991078, 1087399529,  911967026,  982530194],\n",
      "       [ 538680636,  853398012, 2042853783,  443185464, 1003805367]]), array([[1121730160, 1421824465, 1895168428, 2051572897, 2025120177],\n",
      "       [ 389158526, 2116672655,   51544841, 1833408114, 1352369880],\n",
      "       [ 943723677,  297169154,  270923553,  327552472,  569530029],\n",
      "       [1858086536,    8668296, 1825959775, 2119445413, 2064221776],\n",
      "       [ 711519751, 1662197530, 1332049151, 1236705957, 1702501258]]), array([[ 134319755,  669011552, 2082070610, 2050665760, 1310848393],\n",
      "       [1785821221, 1346733203, 2003745478, 1012003808,  758972230],\n",
      "       [ 782415299, 1256081195,  907131030,  761211277, 1124554411],\n",
      "       [ 114701191, 2086730464,  771357838,  392108192, 1676125148],\n",
      "       [ 668762015, 1115007867,  180114673, 1504887721, 1419930772]]), array([[ 382969491, 1759482271, 1623557682, 1172373648,  833312310],\n",
      "       [ 274104378, 1524673649, 2146908687,  109514556,  884829297],\n",
      "       [ 914836376, 1914454432,  928695588, 1744754965, 1406457377],\n",
      "       [ 773491255, 1944327883, 1135913164,  957621431, 1664944592],\n",
      "       [1290095047,  851953301,  244637740, 1995118510,  257856669]])]]\n"
     ]
    }
   ],
   "source": [
    "num_neurons = 6\n",
    "wsize = 5\n",
    "num_classes = 2\n",
    "W1 = [[np.random.randint(0,2**31,size=(wsize,wsize)) for i in xrange(0,num_neurons)] for j in xrange(0,num_classes)]\n",
    "print W1"
   ]
  },
  {
   "cell_type": "code",
   "execution_count": 25,
   "metadata": {
    "collapsed": false
   },
   "outputs": [
    {
     "name": "stdout",
     "output_type": "stream",
     "text": [
      "[[ 0.  0.  0.  0.  0.]\n",
      " [ 0.  0.  0.  0.  0.]\n",
      " [ 0.  0.  0.  0.  0.]\n",
      " [ 0.  0.  0.  0.  0.]\n",
      " [ 0.  0.  0.  0.  0.]]\n"
     ]
    }
   ],
   "source": [
    "print np.zeros((5,5))"
   ]
  },
  {
   "cell_type": "code",
   "execution_count": 36,
   "metadata": {
    "collapsed": false,
    "scrolled": false
   },
   "outputs": [
    {
     "name": "stdout",
     "output_type": "stream",
     "text": [
      "[[ 0.63068917  0.36931083]\n",
      " [ 0.42843596  0.57156404]\n",
      " [ 0.74231836  0.25768164]\n",
      " [ 0.66471998  0.33528002]\n",
      " [ 0.66333043  0.33666957]]\n",
      "[[ 0.63068917 -0.63068917]\n",
      " [ 0.42843596 -0.42843596]\n",
      " [-0.25768164  0.25768164]\n",
      " [ 0.66471998 -0.66471998]\n",
      " [ 0.66333043 -0.66333043]]\n"
     ]
    }
   ],
   "source": [
    "import sklearn.datasets\n",
    "import numpy as np\n",
    "import matplotlib.pyplot as plt\n",
    "\n",
    "# Generate a random data set and visualize the data\n",
    "np.random.seed(0)\n",
    "X, y = sklearn.datasets.make_moons(300, noise=0.3)\n",
    "plt.scatter(X[:,0], X[:,1], s=40, c=y, cmap=plt.cm.Spectral)\n",
    "plt.xlabel('Fame on Twitter')\n",
    "plt.ylabel('Fame on Facebook')\n",
    "#plt.show()\n",
    "num_examples = len(X) # training set size\n",
    "nn_input_dim = 2 # input layer dimensionality\n",
    "nn_output_dim = 2 # output layer dimensionality\n",
    " \n",
    "# Gradient descent parameters (randomly picked)\n",
    "epsilon = 0.01 # learning rate for gradient descent\n",
    "reg_lambda = 0.01 # regularization strength\n",
    "\n",
    "nn_hdim = 5\n",
    "\n",
    "np.random.seed(0)\n",
    "W1 = np.random.randn(nn_input_dim, nn_hdim) / np.sqrt(nn_input_dim)\n",
    "b1 = np.zeros((1, nn_hdim))\n",
    "W2 = np.random.randn(nn_hdim, nn_output_dim) / np.sqrt(nn_hdim)\n",
    "b2 = np.zeros((1, nn_output_dim))\n",
    "    \n",
    "# Forward propagation\n",
    "z1 = X.dot(W1) + b1\n",
    "a1 = np.tanh(z1)\n",
    "z2 = a1.dot(W2) + b2\n",
    "exp_scores = np.exp(z2)\n",
    "probs = exp_scores / np.sum(exp_scores, axis=1, keepdims=True)\n",
    " \n",
    "# Backpropagation\n",
    "delta3 = probs\n",
    "print delta3[:5]\n",
    "delta3[range(num_examples), y] -= 1\n",
    "print delta3[:5]\n",
    "dW2 = (a1.T).dot(delta3)\n",
    "db2 = np.sum(delta3, axis=0, keepdims=True)\n",
    "delta2 = delta3.dot(W2.T) * (1 - np.power(a1, 2))\n",
    "dW1 = np.dot(X.T, delta2)\n",
    "db1 = np.sum(delta2, axis=0)"
   ]
  },
  {
   "cell_type": "code",
   "execution_count": 2,
   "metadata": {
    "collapsed": false
   },
   "outputs": [
    {
     "name": "stdout",
     "output_type": "stream",
     "text": [
      "(2,)\n",
      "(2, 1)\n",
      "[-1.01716616 -0.42326637]\n",
      "[[-1.0780216 ]\n",
      " [-0.31043507]]\n",
      "[ 1.22792381]\n"
     ]
    }
   ],
   "source": [
    "import numpy as np\n",
    "W1 = np.random.randn(2,2)\n",
    "s = np.random.randn(2,1)\n",
    "print W1[:,0].shape\n",
    "print s.shape\n",
    "print W1[:,0]\n",
    "print s\n",
    "print W1[:,0].dot(s)"
   ]
  },
  {
   "cell_type": "code",
   "execution_count": 5,
   "metadata": {
    "collapsed": false
   },
   "outputs": [],
   "source": [
    "s.tofile('sam_temp')"
   ]
  },
  {
   "cell_type": "code",
   "execution_count": 10,
   "metadata": {
    "collapsed": false
   },
   "outputs": [
    {
     "name": "stdout",
     "output_type": "stream",
     "text": [
      "array('d', [-1.0780216008486716, -0.3104350691452749])\n"
     ]
    }
   ],
   "source": [
    "from array import array\n",
    "input_file = open('sam_temp', 'r') \n",
    "float_array = array('d')\n",
    "float_array.fromstring(input_file.read())\n",
    "print float_array"
   ]
  },
  {
   "cell_type": "code",
   "execution_count": 14,
   "metadata": {
    "collapsed": false
   },
   "outputs": [],
   "source": [
    "import numpy as np\n",
    "img = np.array([0,0,0,0,0,0,0,0,0,0,0,0,0,0,0,0,0,0,0,0,0,0,0,0,0,0,0,0,0,0,0,0,0,0,0,0,0,0,0,0,0,0,0,0,0,0,0,0,0,0,0,0,0,0,0,0,0,0,0,0,0,0,0,0,0,0,0,0,0,0,0,0,0,0,0,0,0,0,0,0,0,0,0,0,0,0,0,0,0,0,0,0,0,0,0,0,0,0,0,0,0,0,0,0,0,0,0,0,0,0,0,0,0,0,0,0,0,0,0,0,0,0,0,0,0,0,0,0,0,0,0,0,0,0,0,0,0,0,0,0,0,0,0,0,0,0,0,0,0,0,0,0,0,0,0,0,0,0,0,0,0,0,0,0,0,0,0,0,0,0,0,0,0,0,0,0,0,0,0,0,0,0,0,0,0,0,0,0,0,0,0,0,0,0,0,0,0,0,0,0,0,0,52,77,0,0,0,0,0,0,0,0,0,0,0,0,0,0,0,0,0,0,0,0,0,0,0,0,0,169,250,251,31,0,0,0,0,0,0,0,19,134,248,248,248,174,0,0,0,0,0,0,0,0,0,0,169,253,253,210,18,0,0,0,0,0,0,78,200,253,253,253,253,253,118,0,0,0,0,0,0,0,0,116,253,253,210,25,0,0,0,0,0,25,198,248,253,253,253,253,253,253,123,0,0,0,0,0,0,0,0,125,253,253,32,0,0,0,0,0,176,234,253,253,253,173,25,43,253,253,123,0,0,0,0,0,0,0,0,171,253,213,12,0,0,0,76,128,246,253,253,189,141,12,0,20,253,253,123,0,0,0,0,0,0,0,0,255,253,142,0,0,0,117,247,253,253,233,141,12,0,0,0,20,253,253,166,0,0,0,0,0,0,0,0,255,253,176,6,122,209,247,253,253,159,35,0,0,0,0,0,20,253,253,253,0,0,0,0,0,0,0,0,150,253,253,206,248,253,253,231,144,12,0,0,0,0,0,0,20,253,253,253,0,0,0,0,0,0,0,0,93,218,253,253,253,253,198,63,0,0,0,0,0,0,0,0,5,168,253,253,0,0,0,0,0,0,0,0,0,30,122,140,65,65,10,0,0,0,0,0,0,0,0,0,0,143,253,155,0,0,0,0,0,0,0,0,0,0,0,0,0,0,0,0,0,0,0,0,0,0,0,0,5,166,253,123,0,0,0,0,0,0,0,0,0,0,0,0,0,0,0,0,0,0,0,0,0,0,0,0,20,253,253,123,0,0,0,0,0,0,0,0,0,0,0,0,0,0,0,0,0,0,0,0,0,0,0,0,20,253,249,41,0,0,0,0,0,0,0,0,0,0,0,0,0,0,0,0,0,0,0,0,0,0,0,0,37,253,247,0,0,0,0,0,0,0,0,0,0,0,0,0,0,0,0,0,0,0,0,0,0,0,0,0,150,253,247,0,0,0,0,0,0,0,0,0,0,0,0,0,0,0,0,0,0,0,0,0,0,0,0,0,150,253,169,0,0,0,0,0,0,0,0,0,0,0,0,0,0,0,0,0,0,0,0,0,0,0,0,0,150,253,117,0,0,0,0,0,0,0,0,0,0,0,0,0,0,0,0,0,0,0,0,0,0,0,0,0,147,253,117,0,0,0,0,0,0,0,0,0,0,0,0,0,0,0,0,0,0,0,0,0,0,0,0,0,10,123,57,0,0,0,0,0,0,0,0,0,0,0,0,0,0,0,0,0,0,0,0,0,0,0,0,0,0,0,0,0,0,0,0,0,0])\n",
    "img = img.reshape(28,28)\n"
   ]
  },
  {
   "cell_type": "code",
   "execution_count": 15,
   "metadata": {
    "collapsed": false
   },
   "outputs": [
    {
     "data": {
      "image/png": "[encoded data removed]",
      "text/plain": [
       "<matplotlib.figure.Figure at 0x104d24410>"
      ]
     },
     "metadata": {},
     "output_type": "display_data"
    }
   ],
   "source": [
    "import matplotlib.pyplot as plt\n",
    "img = plt.imshow(img, cmap='seismic', interpolation='none')\n",
    "cbar = plt.colorbar(img)\n",
    "plt.show()"
   ]
  },
  {
   "cell_type": "code",
   "execution_count": null,
   "metadata": {
    "collapsed": true
   },
   "outputs": [],
   "source": []
  }
 ],
 "metadata": {
  "anaconda-cloud": {},
  "kernelspec": {
   "display_name": "Python 2",
   "language": "python",
   "name": "python2"
  },
  "language_info": {
   "codemirror_mode": {
    "name": "ipython",
    "version": 2
   },
   "file_extension": ".py",
   "mimetype": "text/x-python",
   "name": "python",
   "nbconvert_exporter": "python",
   "pygments_lexer": "ipython2",
   "version": "2.7.12"
  }
 },
 "nbformat": 4,
 "nbformat_minor": 1
}
